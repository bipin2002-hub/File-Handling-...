{
  "nbformat": 4,
  "nbformat_minor": 0,
  "metadata": {
    "colab": {
      "provenance": []
    },
    "kernelspec": {
      "name": "python3",
      "display_name": "Python 3"
    },
    "language_info": {
      "name": "python"
    }
  },
  "cells": [
    {
      "cell_type": "markdown",
      "source": [
        "# Files, exceptional handling, logging and memory management\n",
        "\n",
        "   \n"
      ],
      "metadata": {
        "id": "YAV9SAn_aEgi"
      }
    },
    {
      "cell_type": "markdown",
      "source": [
        " 1.How can you open a file for writing in Python and write a string to it\n"
      ],
      "metadata": {
        "id": "Dju25ovsah1L"
      }
    },
    {
      "cell_type": "code",
      "source": [
        "with open(\"example.txt\", \"w\") as file:\n",
        "    file.write(\"Hello, World!\\n\")"
      ],
      "metadata": {
        "id": "JzX_RIo8arCO"
      },
      "execution_count": 1,
      "outputs": []
    },
    {
      "cell_type": "markdown",
      "source": [
        "2. Write a Python program to read the contents of a file and print each line\n"
      ],
      "metadata": {
        "id": "5I4xG41MbMby"
      }
    },
    {
      "cell_type": "code",
      "source": [
        "filename = \"example.txt\"\n",
        "\n",
        "with open(filename, 'r') as file:\n",
        "    for line in file:\n",
        "        print(line.strip())"
      ],
      "metadata": {
        "colab": {
          "base_uri": "https://localhost:8080/"
        },
        "id": "Tbx5Dwu5bLbi",
        "outputId": "ff722ef1-1c48-45e9-a0b5-6e612834e7cd"
      },
      "execution_count": 2,
      "outputs": [
        {
          "output_type": "stream",
          "name": "stdout",
          "text": [
            "Hello, World!\n"
          ]
        }
      ]
    },
    {
      "cell_type": "markdown",
      "source": [
        "3. How would you handle a case where the file doesn't exist while trying to open it for reading\n"
      ],
      "metadata": {
        "id": "4nwRxR_RblW5"
      }
    },
    {
      "cell_type": "code",
      "source": [
        "filename = \"example.txt\"\n",
        "\n",
        "try:\n",
        "    with open(filename, 'r') as file:\n",
        "        contents = file.read()\n",
        "        print(contents)\n",
        "except FileNotFoundError:\n",
        "    print(f\"Error: The file '{filename}' was not found.\")\n"
      ],
      "metadata": {
        "colab": {
          "base_uri": "https://localhost:8080/"
        },
        "id": "OX4kPEAMbrXM",
        "outputId": "ceedad67-9cbc-46ff-d15d-4414ad73adbc"
      },
      "execution_count": 3,
      "outputs": [
        {
          "output_type": "stream",
          "name": "stdout",
          "text": [
            "Hello, World!\n",
            "\n"
          ]
        }
      ]
    },
    {
      "cell_type": "markdown",
      "source": [
        "4. Write a Python script that reads from one file and writes its content to another file.\n"
      ],
      "metadata": {
        "id": "9Z-2-KbqcfNa"
      }
    },
    {
      "cell_type": "code",
      "source": [
        "def copy_file(source_file, destination_file):\n",
        "    try:\n",
        "        # Open the source file in read mode\n",
        "        with open(source_file, 'r') as src:\n",
        "            content = src.read()\n",
        "\n",
        "        # Open the destination file in write mode and write the content\n",
        "        with open(destination_file, 'w') as dest:\n",
        "            dest.write(content)\n",
        "\n",
        "        print(f\"Content copied from '{source_file}' to '{destination_file}' successfully.\")\n",
        "\n",
        "    except FileNotFoundError:\n",
        "        print(f\"Error: '{source_file}' not found.\")\n",
        "    except Exception as e:\n",
        "        print(f\"An error occurred: {e}\")\n",
        "\n",
        "# Example usage\n",
        "copy_file('source.txt', 'destination.txt')\n"
      ],
      "metadata": {
        "colab": {
          "base_uri": "https://localhost:8080/"
        },
        "id": "lOAv4vHVceXn",
        "outputId": "a2b2c794-297f-4a7c-f8de-af54ffd7a74c"
      },
      "execution_count": 4,
      "outputs": [
        {
          "output_type": "stream",
          "name": "stdout",
          "text": [
            "Error: 'source.txt' not found.\n"
          ]
        }
      ]
    },
    {
      "cell_type": "markdown",
      "source": [
        "5. How would you catch and handle division by zero error in Python?\n"
      ],
      "metadata": {
        "id": "r7ubU2cdew3w"
      }
    },
    {
      "cell_type": "code",
      "source": [
        "def divide_numbers(x, y):\n",
        "    try:\n",
        "        result = x / y\n",
        "        print(\"Result:\", result)\n",
        "    except ZeroDivisionError:\n",
        "        print(\"Error: Division by zero is not allowed.\")\n",
        "divide_numbers(10, 0)"
      ],
      "metadata": {
        "colab": {
          "base_uri": "https://localhost:8080/"
        },
        "id": "xZ98_x-RceUS",
        "outputId": "53da1a2a-5e73-410a-e617-2c2de745f724"
      },
      "execution_count": 5,
      "outputs": [
        {
          "output_type": "stream",
          "name": "stdout",
          "text": [
            "Error: Division by zero is not allowed.\n"
          ]
        }
      ]
    },
    {
      "cell_type": "markdown",
      "source": [
        "6. Write a Python program that logs an error message to a log file when a division by zero exception occurs.\n"
      ],
      "metadata": {
        "id": "HgC2GamGfrg_"
      }
    },
    {
      "cell_type": "code",
      "source": [
        "import logging\n",
        "\n",
        "logging.basicConfig(filename='error.log',\n",
        "                    level=logging.ERROR,\n",
        "                    format='%(asctime)s - %(levelname)s - %(message)s')\n",
        "\n",
        "def divide(a, b):\n",
        "    try:\n",
        "        result = a / b\n",
        "        print(f\"Result: {result}\")\n",
        "        return result\n",
        "    except ZeroDivisionError as e:\n",
        "        logging.error(\"Division by zero attempted: %s\", e)\n",
        "        print(\"Error: Division by zero is not allowed.\")\n",
        "num1 = 10\n",
        "num2 = 0\n"
      ],
      "metadata": {
        "id": "-KPc1r9QceRM"
      },
      "execution_count": 6,
      "outputs": []
    },
    {
      "cell_type": "markdown",
      "source": [
        "7. How do you log information at different levels (INFO, ERROR, WARNING) in Python using the logging module\n"
      ],
      "metadata": {
        "id": "fxpFbd3IsoUo"
      }
    },
    {
      "cell_type": "code",
      "source": [
        "logging.basicConfig(\n",
        "    level=logging.DEBUG,\n",
        "    format='%(asctime)s - %(levelname)s - %(message)s',\n",
        "    filename='app.log',\n",
        "    filemode='w'\n",
        ")\n",
        "logging.info(\"This is an informational message.\")\n",
        "logging.warning(\"This is a warning message.\")\n",
        "logging.error(\"This is an error message.\")"
      ],
      "metadata": {
        "id": "C3g4vyaMceOy",
        "colab": {
          "base_uri": "https://localhost:8080/"
        },
        "outputId": "ce195db4-91da-4309-c749-5ef0f2d8ee3d"
      },
      "execution_count": 7,
      "outputs": [
        {
          "output_type": "stream",
          "name": "stderr",
          "text": [
            "WARNING:root:This is a warning message.\n",
            "ERROR:root:This is an error message.\n"
          ]
        }
      ]
    },
    {
      "cell_type": "markdown",
      "source": [
        "8.Write a program to handle a file opening error using exception handling"
      ],
      "metadata": {
        "id": "wk76gXNjtJGY"
      }
    },
    {
      "cell_type": "code",
      "source": [
        "filename = \"example.txt\"\n",
        "\n",
        "try:\n",
        "    with open(filename, 'r') as file:\n",
        "        content = file.read()\n",
        "        print(\"File content:\")\n",
        "        print(content)\n",
        "except FileNotFoundError:\n",
        "    print(f\"Error: The file '{filename}' was not found.\")\n",
        "except PermissionError:\n",
        "    print(f\"Error: You do not have permission to open '{filename}'.\")\n",
        "except Exception as e:\n",
        "    print(f\"An unexpected error occurred: {e}\")"
      ],
      "metadata": {
        "id": "aCCEmt3jceME",
        "colab": {
          "base_uri": "https://localhost:8080/"
        },
        "outputId": "70de5b3d-b146-4ddb-f965-49cf8ae9c8a6"
      },
      "execution_count": 8,
      "outputs": [
        {
          "output_type": "stream",
          "name": "stdout",
          "text": [
            "File content:\n",
            "Hello, World!\n",
            "\n"
          ]
        }
      ]
    },
    {
      "cell_type": "markdown",
      "source": [
        "9. How can you read a file line by line and store its content in a list in Python?"
      ],
      "metadata": {
        "id": "oqHNDU6qthEX"
      }
    },
    {
      "cell_type": "code",
      "source": [
        "file = \"example.txt\"\n",
        "lines = []\n",
        "\n",
        "with open(\"example.txt\", 'r') as file:\n",
        "    for line in file:\n",
        "        lines.append(line.rstrip('\\n'))\n",
        "\n",
        "print(lines)\n"
      ],
      "metadata": {
        "id": "eDpx-zFOceJZ",
        "colab": {
          "base_uri": "https://localhost:8080/"
        },
        "outputId": "8093e030-d1ed-4fcb-a2cc-807a602c7df3"
      },
      "execution_count": 9,
      "outputs": [
        {
          "output_type": "stream",
          "name": "stdout",
          "text": [
            "['Hello, World!']\n"
          ]
        }
      ]
    },
    {
      "cell_type": "markdown",
      "source": [
        "10. How can you append data to an existing file in Python?\n"
      ],
      "metadata": {
        "id": "xwHLyCrsu-10"
      }
    },
    {
      "cell_type": "code",
      "source": [
        "file = open(\"files.txt\", \"w\")\n",
        "file.write(\"this is my first line\\n\")\n",
        "file.write(\"this is my second line\\n\")\n",
        "file.write(\"this is my third line\\n\")\n",
        "file.write(\"this is my fouth line\\n\")\n",
        "file.close()"
      ],
      "metadata": {
        "id": "BbDKHX6ycd6R"
      },
      "execution_count": 10,
      "outputs": []
    },
    {
      "cell_type": "code",
      "source": [
        "file = open(\"files.txt\", \"a\")# append the new line\n",
        "file.write(\"this is my fifth line\")\n",
        "file.close()"
      ],
      "metadata": {
        "id": "obn2RXeUcd2r"
      },
      "execution_count": 11,
      "outputs": []
    },
    {
      "cell_type": "code",
      "source": [
        "file = open(\"files.txt\",'r')"
      ],
      "metadata": {
        "id": "4jEPfvd2cdzz"
      },
      "execution_count": 12,
      "outputs": []
    },
    {
      "cell_type": "markdown",
      "source": [
        "11. Write a Python program that uses a try-except block to handle an error when attempting to access a dictionary key that doesn't exist\n",
        "\n"
      ],
      "metadata": {
        "id": "23-5Vu11v7sW"
      }
    },
    {
      "cell_type": "code",
      "source": [
        "my_dict = {'apple': 1, 'banana': 2, 'orange': 3}\n",
        "\n",
        "key = 'grape'\n",
        "\n",
        "try:\n",
        "    value = my_dict[key]\n",
        "    print(f\"The value for '{key}' is {value}.\")\n",
        "except KeyError:\n",
        "    print(f\"Key '{key}' not found in the dictionary.\")\n"
      ],
      "metadata": {
        "id": "2wNyveEpcdxc",
        "colab": {
          "base_uri": "https://localhost:8080/"
        },
        "outputId": "b043b254-49c8-4db5-84d5-2f32b1ba028f"
      },
      "execution_count": 13,
      "outputs": [
        {
          "output_type": "stream",
          "name": "stdout",
          "text": [
            "Key 'grape' not found in the dictionary.\n"
          ]
        }
      ]
    },
    {
      "cell_type": "markdown",
      "source": [
        "12. Write a program that demonstrates using multiple except blocks to handle different types of exceptions\n"
      ],
      "metadata": {
        "id": "ByR-zvwiwQ2C"
      }
    },
    {
      "cell_type": "code",
      "source": [
        "try:\n",
        "    num = int(input(\"Enter a number: \"))\n",
        "    result = 10 / num\n",
        "    print(\"Result:\", result)\n",
        "except ZeroDivisionError:\n",
        "    print(\"You cannot divide by zero!\")\n",
        "except ValueError:\n",
        "    print(\"Please enter a valid integer!\")\n"
      ],
      "metadata": {
        "id": "zzixhu7CcdvK",
        "colab": {
          "base_uri": "https://localhost:8080/"
        },
        "outputId": "359525a0-bb2e-4dfc-d93f-2168a58e491f"
      },
      "execution_count": 14,
      "outputs": [
        {
          "output_type": "stream",
          "name": "stdout",
          "text": [
            "Enter a number: 0\n",
            "You cannot divide by zero!\n"
          ]
        }
      ]
    },
    {
      "cell_type": "markdown",
      "source": [
        "13. How would you check if a file exists before attempting to read it in Python?\n"
      ],
      "metadata": {
        "id": "W8jZmkkQws8a"
      }
    },
    {
      "cell_type": "code",
      "source": [
        "from pathlib import Path\n",
        "\n",
        "file = Path('filename.txt')\n",
        "if file.exists():\n",
        "    print(\"File exists\")\n",
        "else:\n",
        "    print(\"File does not exist\")"
      ],
      "metadata": {
        "colab": {
          "base_uri": "https://localhost:8080/"
        },
        "id": "60B0qNApxCWX",
        "outputId": "d46989d9-c63b-4f62-8c05-c51b944dd117"
      },
      "execution_count": 15,
      "outputs": [
        {
          "output_type": "stream",
          "name": "stdout",
          "text": [
            "File does not exist\n"
          ]
        }
      ]
    },
    {
      "cell_type": "markdown",
      "source": [
        "14. Write a program that uses the logging module to log both informational and error messages.\n"
      ],
      "metadata": {
        "id": "vdopvxJQw-lQ"
      }
    },
    {
      "cell_type": "code",
      "source": [
        "import logging\n",
        "logging.basicConfig(\n",
        "    level=logging.INFO,\n",
        "    format='%(asctime)s - %(levelname)s - %(message)s'\n",
        ")\n",
        "\n",
        "logging.info(\"The program started successfully.\")\n",
        "\n",
        "try:\n",
        "    result = 10 / 0\n",
        "except ZeroDivisionError as e:\n",
        "    logging.error(\"An error occurred: %s\", e)\n"
      ],
      "metadata": {
        "colab": {
          "base_uri": "https://localhost:8080/"
        },
        "id": "SD44Ic4gxMmU",
        "outputId": "2b6e40ec-7c64-4d22-d839-592ca399899a"
      },
      "execution_count": 16,
      "outputs": [
        {
          "output_type": "stream",
          "name": "stderr",
          "text": [
            "ERROR:root:An error occurred: division by zero\n"
          ]
        }
      ]
    },
    {
      "cell_type": "markdown",
      "source": [
        "15. Write a Python program that prints the content of a file and handles the case when the file is empty.\n"
      ],
      "metadata": {
        "id": "0YzOfLUwws5K"
      }
    },
    {
      "cell_type": "code",
      "source": [
        "filename = 'example.txt'\n",
        "\n",
        "try:\n",
        "    with open( \"example.txt\" ,'r') as file:\n",
        "        content = file.read()\n",
        "        if content:\n",
        "            print(\"File Contents:\")\n",
        "            print(content)\n",
        "        else:\n",
        "            print(\"The file is empty.\")\n",
        "except FileNotFoundError:\n",
        "    print(f\"The file '{filename}' does not exist.\")\n",
        "except Exception as e:\n",
        "    print(f\"An error occurred: {e}\")"
      ],
      "metadata": {
        "colab": {
          "base_uri": "https://localhost:8080/"
        },
        "id": "gaMYFdgVx3VA",
        "outputId": "b42c4c0d-87c0-474d-b9c2-c7d57dc19fbc"
      },
      "execution_count": 17,
      "outputs": [
        {
          "output_type": "stream",
          "name": "stdout",
          "text": [
            "File Contents:\n",
            "Hello, World!\n",
            "\n"
          ]
        }
      ]
    },
    {
      "cell_type": "markdown",
      "source": [
        "**16**. Demonstrate how to use memory profiling to check the memory usage of a small program.\n",
        "\n",
        "\n"
      ],
      "metadata": {
        "id": "Iw3ef2qAws2Z"
      }
    },
    {
      "cell_type": "code",
      "source": [
        "pip install memory-profiler\n"
      ],
      "metadata": {
        "colab": {
          "base_uri": "https://localhost:8080/"
        },
        "id": "9cqk6SMgy-CT",
        "outputId": "f32eba25-4d44-4408-b278-4c52c3d0613a"
      },
      "execution_count": 18,
      "outputs": [
        {
          "output_type": "stream",
          "name": "stdout",
          "text": [
            "Collecting memory-profiler\n",
            "  Downloading memory_profiler-0.61.0-py3-none-any.whl.metadata (20 kB)\n",
            "Requirement already satisfied: psutil in /usr/local/lib/python3.11/dist-packages (from memory-profiler) (5.9.5)\n",
            "Downloading memory_profiler-0.61.0-py3-none-any.whl (31 kB)\n",
            "Installing collected packages: memory-profiler\n",
            "Successfully installed memory-profiler-0.61.0\n"
          ]
        }
      ]
    },
    {
      "cell_type": "code",
      "source": [
        "pip install psutil\n"
      ],
      "metadata": {
        "colab": {
          "base_uri": "https://localhost:8080/"
        },
        "id": "pNRSWQkuyUtz",
        "outputId": "9e5a33a9-dfac-49fe-d2cb-5d1284387133"
      },
      "execution_count": 19,
      "outputs": [
        {
          "output_type": "stream",
          "name": "stdout",
          "text": [
            "Requirement already satisfied: psutil in /usr/local/lib/python3.11/dist-packages (5.9.5)\n"
          ]
        }
      ]
    },
    {
      "cell_type": "code",
      "source": [
        "from memory_profiler import memory_usage\n",
        "\n",
        "def test():\n",
        "    a = [i for i in range(1000000)]\n",
        "    return a\n",
        "\n",
        "mem_usage = memory_usage(test)\n",
        "print(f\"Memory used: {max(mem_usage) - min(mem_usage):.2f} MiB\")"
      ],
      "metadata": {
        "colab": {
          "base_uri": "https://localhost:8080/"
        },
        "id": "8nJ-FEMxy0n6",
        "outputId": "fe780fc8-d0ce-4af3-ddc2-cd0ad13acbfb"
      },
      "execution_count": 20,
      "outputs": [
        {
          "output_type": "stream",
          "name": "stdout",
          "text": [
            "Memory used: 35.40 MiB\n"
          ]
        }
      ]
    },
    {
      "cell_type": "markdown",
      "source": [
        "17. Write a Python program to create and write a list of numbers to a file, one number per line\n"
      ],
      "metadata": {
        "id": "2lxMrKuu1U1N"
      }
    },
    {
      "cell_type": "code",
      "source": [
        "numbers = [1, 2, 3, 4, 5, 6, 7, 8, 9, 10]  # Example list of numbers\n",
        "\n",
        "filename = \"numbers.txt\"\n",
        "\n",
        "with open( \"numbers.txt\",'w') as file:\n",
        "    for number in numbers:\n",
        "        file.write(f\"{number}\\n\")\n",
        "\n",
        "print(f\"Numbers have been written to {filename}.\")\n"
      ],
      "metadata": {
        "colab": {
          "base_uri": "https://localhost:8080/"
        },
        "id": "FSToCZ_o1UAT",
        "outputId": "8429dd1f-b84e-431b-e6eb-47455bcbafa2"
      },
      "execution_count": 21,
      "outputs": [
        {
          "output_type": "stream",
          "name": "stdout",
          "text": [
            "Numbers have been written to numbers.txt.\n"
          ]
        }
      ]
    },
    {
      "cell_type": "markdown",
      "source": [
        "18. How would you implement a basic logging setup that logs to a file with rotation after 1MB?\n",
        "\n"
      ],
      "metadata": {
        "id": "0hqkiwcYws0L"
      }
    },
    {
      "cell_type": "code",
      "source": [
        "import logging\n",
        "from logging.handlers import RotatingFileHandler\n",
        "log_file = 'app.log'\n",
        "max_bytes = 1 * 1024 * 1024\n",
        "backup_count = 5\n",
        "\n",
        "handler = RotatingFileHandler(\n",
        "    log_file, maxBytes=max_bytes, backupCount=backup_count\n",
        ")\n",
        "\n",
        "logging.basicConfig(\n",
        "    level=logging.INFO,\n",
        "    handlers=[handler],\n",
        "    format='%(asctime)s - %(levelname)s - %(message)s'\n",
        ")\n",
        "\n",
        "# Example usage\n",
        "for i in range(100000):\n",
        "    logging.info(f\"This is log message number {i}\")\n"
      ],
      "metadata": {
        "id": "xybS_jcG18O8"
      },
      "execution_count": 22,
      "outputs": []
    },
    {
      "cell_type": "markdown",
      "source": [
        "19. Write a program that handles both IndexError and KeyError using a try-except block\n"
      ],
      "metadata": {
        "id": "s7wfi5Y7wsyA"
      }
    },
    {
      "cell_type": "code",
      "source": [
        "my_list = [10, 20, 30]\n",
        "my_dict = {'a': 1, 'b': 2, 'c': 3}\n",
        "\n",
        "try:\n",
        "    print(\"List item:\", my_list[5])\n",
        "    print(\"Dictionary value:\", my_dict['z'])\n",
        "except IndexError:\n",
        "    print(\"IndexError: The list index is out of range.\")\n",
        "except KeyError:\n",
        "    print(\"KeyError: The dictionary key does not exist.\")"
      ],
      "metadata": {
        "colab": {
          "base_uri": "https://localhost:8080/"
        },
        "id": "ug1vngy8293N",
        "outputId": "21b6cdc9-5ea8-4793-a11d-a5e839e8e077"
      },
      "execution_count": 23,
      "outputs": [
        {
          "output_type": "stream",
          "name": "stdout",
          "text": [
            "IndexError: The list index is out of range.\n"
          ]
        }
      ]
    },
    {
      "cell_type": "markdown",
      "source": [
        "20. How would you open a file and read its contents using a context manager in Python?\n"
      ],
      "metadata": {
        "id": "tixaoNBA3Ga4"
      }
    },
    {
      "cell_type": "code",
      "source": [
        "filename = \"example.txt\"\n",
        "\n",
        "with open( \"example.txt\", 'r') as file:\n",
        "    contents = file.read()\n",
        "    print(contents)"
      ],
      "metadata": {
        "colab": {
          "base_uri": "https://localhost:8080/"
        },
        "id": "SbkzlNLh3U6q",
        "outputId": "be6cecec-3cf4-48ab-af41-f26b1c11f30c"
      },
      "execution_count": 24,
      "outputs": [
        {
          "output_type": "stream",
          "name": "stdout",
          "text": [
            "Hello, World!\n",
            "\n"
          ]
        }
      ]
    },
    {
      "cell_type": "markdown",
      "source": [
        "21. Write a Python program that reads a file and prints the number of occurrences of a specific word.\n"
      ],
      "metadata": {
        "id": "glCek3Ct4Nyg"
      }
    },
    {
      "cell_type": "code",
      "source": [
        "filename = \"example.txt\"\n",
        "search_word = \"python\"\n",
        "\n",
        "count = 0\n",
        "\n",
        "with open(\"example.txt\",\"r\") as file:\n",
        "    for line in file:\n",
        "        words = line.lower().split()\n",
        "        count += words.count(search_word.lower())\n",
        "\n",
        "print(f\"The word '{search_word}' occurs {count} times in '{filename}'.\")"
      ],
      "metadata": {
        "colab": {
          "base_uri": "https://localhost:8080/"
        },
        "id": "zV4fsH6o460t",
        "outputId": "444346c2-de20-4fd0-d422-798a1e482df0"
      },
      "execution_count": 25,
      "outputs": [
        {
          "output_type": "stream",
          "name": "stdout",
          "text": [
            "The word 'python' occurs 0 times in 'example.txt'.\n"
          ]
        }
      ]
    },
    {
      "cell_type": "markdown",
      "source": [
        "22. How can you check if a file is empty before attempting to read its contents?\n"
      ],
      "metadata": {
        "id": "iEECrcHS3GMp"
      }
    },
    {
      "cell_type": "code",
      "source": [
        "import os\n",
        "\n",
        "file_path = 'example.txt'\n",
        "file =open(\"example.txt\", \"w\")\n",
        "if os.path.getsize(file_path) == 0:\n",
        "    print(\"The file is empty.\")\n",
        "else:\n",
        "    print(\"The file is not empty.\")"
      ],
      "metadata": {
        "colab": {
          "base_uri": "https://localhost:8080/"
        },
        "id": "0AP1X1ZXsq4O",
        "outputId": "aacaf57d-755e-4ae1-83f4-61e983a311a6"
      },
      "execution_count": 26,
      "outputs": [
        {
          "output_type": "stream",
          "name": "stdout",
          "text": [
            "The file is empty.\n"
          ]
        }
      ]
    },
    {
      "cell_type": "markdown",
      "source": [
        "23. Write a Python program that writes to a log file when an error occurs during file handling.\n"
      ],
      "metadata": {
        "id": "ZW8MHqUk3GJQ"
      }
    },
    {
      "cell_type": "code",
      "source": [
        "import logging\n",
        "logging.basicConfig(filename='app.log', level=logging.ERROR,\n",
        "                    format='%(asctime)s - %(levelname)s - %(message)s')\n",
        "\n",
        "try:\n",
        "    with open('data.txt', 'r') as file:\n",
        "        content = file.read()\n",
        "        print(content)\n",
        "except Exception as e:\n",
        "    logging.exception(\"An error occurred during file handling\")"
      ],
      "metadata": {
        "id": "RDXz9eVT3Fs1",
        "colab": {
          "base_uri": "https://localhost:8080/"
        },
        "outputId": "39682a2a-2e7e-4700-fda0-834fbde07568"
      },
      "execution_count": 27,
      "outputs": [
        {
          "output_type": "stream",
          "name": "stderr",
          "text": [
            "ERROR:root:An error occurred during file handling\n",
            "Traceback (most recent call last):\n",
            "  File \"/tmp/ipython-input-27-2737876529.py\", line 6, in <cell line: 0>\n",
            "    with open('data.txt', 'r') as file:\n",
            "         ^^^^^^^^^^^^^^^^^^^^^\n",
            "FileNotFoundError: [Errno 2] No such file or directory: 'data.txt'\n"
          ]
        }
      ]
    },
    {
      "cell_type": "code",
      "source": [],
      "metadata": {
        "id": "yxSy6qIBsqcK"
      },
      "execution_count": 27,
      "outputs": []
    }
  ]
}